{
  "nbformat": 4,
  "nbformat_minor": 0,
  "metadata": {
    "colab": {
      "name": "CreditApprovalPrediction.ipynb",
      "version": "0.3.2",
      "provenance": [],
      "collapsed_sections": [],
      "include_colab_link": true
    },
    "kernelspec": {
      "name": "python3",
      "display_name": "Python 3"
    }
  },
  "cells": [
    {
      "cell_type": "markdown",
      "metadata": {
        "id": "view-in-github",
        "colab_type": "text"
      },
      "source": [
        "[View in Colaboratory](https://colab.research.google.com/github/AnujArora23/CreditApproval/blob/master/CreditApprovalPrediction.ipynb)"
      ]
    },
    {
      "metadata": {
        "id": "GxKCkwsbJoJf",
        "colab_type": "text"
      },
      "cell_type": "markdown",
      "source": [
        "#Credit Approval Prediction (Binary Classification)\n",
        "\n",
        "This dataset is an excellent example of how to deal with sensitive/obscure data. Domain knowledge, while advantageous, is not a necessity and we will see how to develop a good predictive model with domain expertise!\n",
        "\n",
        "\n",
        "This dataset is posted in this project's GitHub repository, while in this notebook I have ingested it through Google Drive. Feel free to replace the ingestion method with your own!\n",
        "\n",
        "### Dataset information:\n",
        "\n",
        "**Credit_Scoring_Clean.csv**: This dataset contains several features that govern an individual's application for credit. We do not know when this dataset is from, and if this is for a credit card application, or a loan, or any other form of credit. In addition to this, many of the features have been converted to meaningless categorical variables or scaled numerical ones, to protect the data of the individual. The outcome is binary, where a *1* implies a successful application for credit and *0* implies an unsuccessful application. \n",
        "\n",
        "Also, as can be gleaned from the file name, the dataset does not require any clean up.\n",
        "\n",
        "### Goals:\n",
        "\n",
        "\n",
        "\n",
        "1.   Perform feature selection to eliminate unnecessary variables or those that introduce bias.\n",
        "\n",
        "2.   Develop a predictive model to judge future credit applications.\n",
        "\n",
        "3. Compare with other models to see if prediction can be improved.\n",
        "\n"
      ]
    },
    {
      "metadata": {
        "id": "CcwKivrzAFWK",
        "colab_type": "text"
      },
      "cell_type": "markdown",
      "source": [
        "## Install and import necessary libraries"
      ]
    },
    {
      "metadata": {
        "id": "0y5RlAGbosPa",
        "colab_type": "code",
        "colab": {
          "base_uri": "https://localhost:8080/",
          "height": 52
        },
        "outputId": "d045e86f-1e16-48a8-85b9-ce350c84d457"
      },
      "cell_type": "code",
      "source": [
        "!pip3 install -U -q PyDrive #Only if you are loading your data from Google Drive"
      ],
      "execution_count": 18,
      "outputs": [
        {
          "output_type": "stream",
          "text": [
            "\u001b[33mYou are using pip version 10.0.1, however version 18.0 is available.\r\n",
            "You should consider upgrading via the 'pip install --upgrade pip' command.\u001b[0m\r\n"
          ],
          "name": "stdout"
        }
      ]
    },
    {
      "metadata": {
        "id": "_lXAbJkV-99X",
        "colab_type": "code",
        "colab": {}
      },
      "cell_type": "code",
      "source": [
        "from pydrive.auth import GoogleAuth\n",
        "from pydrive.drive import GoogleDrive\n",
        "from google.colab import auth\n",
        "from oauth2client.client import GoogleCredentials\n",
        "import pandas as pd\n",
        "import numpy as np\n",
        "import matplotlib.pyplot as plt\n",
        "from sklearn.linear_model import LogisticRegression\n",
        "from sklearn.feature_selection import chi2\n",
        "from sklearn.feature_selection import mutual_info_classif\n",
        "from sklearn.linear_model import LogisticRegression\n",
        "from sklearn.model_selection import train_test_split,cross_val_score,KFold,GridSearchCV\n",
        "from sklearn.metrics import confusion_matrix,classification_report,roc_auc_score, roc_curve,accuracy_score\n",
        "from sklearn.neighbors import KNeighborsClassifier\n",
        "from sklearn.svm import LinearSVC\n",
        "from sklearn.ensemble import RandomForestClassifier\n",
        "from sklearn.calibration import CalibratedClassifierCV"
      ],
      "execution_count": 0,
      "outputs": []
    },
    {
      "metadata": {
        "id": "hO68PK14Fney",
        "colab_type": "text"
      },
      "cell_type": "markdown",
      "source": [
        "## Authorize Google Drive (if your data is stored in Drive)"
      ]
    },
    {
      "metadata": {
        "id": "de7fkRhk1Jlg",
        "colab_type": "code",
        "colab": {}
      },
      "cell_type": "code",
      "source": [
        "%%capture\n",
        "auth.authenticate_user()\n",
        "gauth = GoogleAuth()\n",
        "gauth.credentials = GoogleCredentials.get_application_default()\n",
        "drive = GoogleDrive(gauth)"
      ],
      "execution_count": 0,
      "outputs": []
    },
    {
      "metadata": {
        "id": "362Oj1GvAQEf",
        "colab_type": "text"
      },
      "cell_type": "markdown",
      "source": [
        "## Data Ingestion\n",
        "\n",
        "I have saved the file in my personal drive storage and read it from there into a pandas data frame. Please modify the following cells to read the CSV files into a Pandas dataframe as per your storage location."
      ]
    },
    {
      "metadata": {
        "id": "diegBkCC1aRu",
        "colab_type": "code",
        "colab": {}
      },
      "cell_type": "code",
      "source": [
        "%%capture\n",
        "downloaded = drive.CreateFile({'id':'1JeSjiGe_bbQ9L0xtb0c7hc4V047-XNJa'}) # replace the id with id of file you want to access\n",
        "downloaded.GetContentFile('Credit_Scoring_Clean.csv')  \n",
        "creditdata = pd.read_csv('Credit_Scoring_Clean.csv') "
      ],
      "execution_count": 0,
      "outputs": []
    },
    {
      "metadata": {
        "id": "OZHMatwhbT84",
        "colab_type": "text"
      },
      "cell_type": "markdown",
      "source": [
        "##Feature Selection"
      ]
    },
    {
      "metadata": {
        "id": "DvoiceqAvmOZ",
        "colab_type": "text"
      },
      "cell_type": "markdown",
      "source": [
        "###Feature Elimination"
      ]
    },
    {
      "metadata": {
        "id": "DObexI4icVF0",
        "colab_type": "text"
      },
      "cell_type": "markdown",
      "source": [
        "**Let's take a look at the dataset and their features, to see if we can derive any insights from it.**"
      ]
    },
    {
      "metadata": {
        "id": "5AMAm7XpXwg8",
        "colab_type": "code",
        "colab": {
          "base_uri": "https://localhost:8080/",
          "height": 248
        },
        "outputId": "5cb7f48a-5e6f-4114-dfbb-01c11bdf7c33"
      },
      "cell_type": "code",
      "source": [
        "creditdata.head()"
      ],
      "execution_count": 22,
      "outputs": [
        {
          "output_type": "execute_result",
          "data": {
            "text/html": [
              "<div>\n",
              "<style scoped>\n",
              "    .dataframe tbody tr th:only-of-type {\n",
              "        vertical-align: middle;\n",
              "    }\n",
              "\n",
              "    .dataframe tbody tr th {\n",
              "        vertical-align: top;\n",
              "    }\n",
              "\n",
              "    .dataframe thead th {\n",
              "        text-align: right;\n",
              "    }\n",
              "</style>\n",
              "<table border=\"1\" class=\"dataframe\">\n",
              "  <thead>\n",
              "    <tr style=\"text-align: right;\">\n",
              "      <th></th>\n",
              "      <th>CheckingAcctStat</th>\n",
              "      <th>Duration</th>\n",
              "      <th>CreditHistory</th>\n",
              "      <th>Purpose</th>\n",
              "      <th>CreditAmount</th>\n",
              "      <th>Savings</th>\n",
              "      <th>Employment</th>\n",
              "      <th>InstallmentRatePecnt</th>\n",
              "      <th>SexAndStatus</th>\n",
              "      <th>OtherDetorsGuarantors</th>\n",
              "      <th>...</th>\n",
              "      <th>Property</th>\n",
              "      <th>Age</th>\n",
              "      <th>OtherInstalments</th>\n",
              "      <th>Housing</th>\n",
              "      <th>ExistingCreditsAtBank</th>\n",
              "      <th>Job</th>\n",
              "      <th>NumberDependents</th>\n",
              "      <th>Telephone</th>\n",
              "      <th>ForeignWorker</th>\n",
              "      <th>CreditStatus</th>\n",
              "    </tr>\n",
              "  </thead>\n",
              "  <tbody>\n",
              "    <tr>\n",
              "      <th>0</th>\n",
              "      <td>A11</td>\n",
              "      <td>0.205882</td>\n",
              "      <td>A32</td>\n",
              "      <td>A43</td>\n",
              "      <td>0.161770</td>\n",
              "      <td>A61</td>\n",
              "      <td>A73</td>\n",
              "      <td>0.333333</td>\n",
              "      <td>A92</td>\n",
              "      <td>A101</td>\n",
              "      <td>...</td>\n",
              "      <td>A121</td>\n",
              "      <td>0.089286</td>\n",
              "      <td>A143</td>\n",
              "      <td>A152</td>\n",
              "      <td>0.0</td>\n",
              "      <td>A173</td>\n",
              "      <td>0.0</td>\n",
              "      <td>A191</td>\n",
              "      <td>A201</td>\n",
              "      <td>1</td>\n",
              "    </tr>\n",
              "    <tr>\n",
              "      <th>1</th>\n",
              "      <td>A14</td>\n",
              "      <td>0.294118</td>\n",
              "      <td>A32</td>\n",
              "      <td>A43</td>\n",
              "      <td>0.058380</td>\n",
              "      <td>A62</td>\n",
              "      <td>A74</td>\n",
              "      <td>1.000000</td>\n",
              "      <td>A94</td>\n",
              "      <td>A101</td>\n",
              "      <td>...</td>\n",
              "      <td>A122</td>\n",
              "      <td>0.125000</td>\n",
              "      <td>A143</td>\n",
              "      <td>A152</td>\n",
              "      <td>0.0</td>\n",
              "      <td>A173</td>\n",
              "      <td>0.0</td>\n",
              "      <td>A192</td>\n",
              "      <td>A201</td>\n",
              "      <td>0</td>\n",
              "    </tr>\n",
              "    <tr>\n",
              "      <th>2</th>\n",
              "      <td>A14</td>\n",
              "      <td>0.205882</td>\n",
              "      <td>A32</td>\n",
              "      <td>A43</td>\n",
              "      <td>0.069055</td>\n",
              "      <td>A61</td>\n",
              "      <td>A73</td>\n",
              "      <td>1.000000</td>\n",
              "      <td>A93</td>\n",
              "      <td>A101</td>\n",
              "      <td>...</td>\n",
              "      <td>A124</td>\n",
              "      <td>0.232143</td>\n",
              "      <td>A143</td>\n",
              "      <td>A153</td>\n",
              "      <td>0.0</td>\n",
              "      <td>A174</td>\n",
              "      <td>0.0</td>\n",
              "      <td>A192</td>\n",
              "      <td>A201</td>\n",
              "      <td>0</td>\n",
              "    </tr>\n",
              "    <tr>\n",
              "      <th>3</th>\n",
              "      <td>A11</td>\n",
              "      <td>0.647059</td>\n",
              "      <td>A32</td>\n",
              "      <td>A43</td>\n",
              "      <td>0.358094</td>\n",
              "      <td>A61</td>\n",
              "      <td>A73</td>\n",
              "      <td>0.666667</td>\n",
              "      <td>A92</td>\n",
              "      <td>A101</td>\n",
              "      <td>...</td>\n",
              "      <td>A123</td>\n",
              "      <td>0.214286</td>\n",
              "      <td>A143</td>\n",
              "      <td>A152</td>\n",
              "      <td>0.0</td>\n",
              "      <td>A173</td>\n",
              "      <td>0.0</td>\n",
              "      <td>A192</td>\n",
              "      <td>A201</td>\n",
              "      <td>1</td>\n",
              "    </tr>\n",
              "    <tr>\n",
              "      <th>4</th>\n",
              "      <td>A13</td>\n",
              "      <td>0.029412</td>\n",
              "      <td>A33</td>\n",
              "      <td>A43</td>\n",
              "      <td>0.023825</td>\n",
              "      <td>A61</td>\n",
              "      <td>A72</td>\n",
              "      <td>0.333333</td>\n",
              "      <td>A92</td>\n",
              "      <td>A101</td>\n",
              "      <td>...</td>\n",
              "      <td>A122</td>\n",
              "      <td>0.178571</td>\n",
              "      <td>A141</td>\n",
              "      <td>A152</td>\n",
              "      <td>0.0</td>\n",
              "      <td>A173</td>\n",
              "      <td>0.0</td>\n",
              "      <td>A191</td>\n",
              "      <td>A201</td>\n",
              "      <td>0</td>\n",
              "    </tr>\n",
              "  </tbody>\n",
              "</table>\n",
              "<p>5 rows × 21 columns</p>\n",
              "</div>"
            ],
            "text/plain": [
              "  CheckingAcctStat  Duration CreditHistory Purpose  CreditAmount Savings  \\\n",
              "0              A11  0.205882           A32     A43      0.161770     A61   \n",
              "1              A14  0.294118           A32     A43      0.058380     A62   \n",
              "2              A14  0.205882           A32     A43      0.069055     A61   \n",
              "3              A11  0.647059           A32     A43      0.358094     A61   \n",
              "4              A13  0.029412           A33     A43      0.023825     A61   \n",
              "\n",
              "  Employment  InstallmentRatePecnt SexAndStatus OtherDetorsGuarantors  \\\n",
              "0        A73              0.333333          A92                  A101   \n",
              "1        A74              1.000000          A94                  A101   \n",
              "2        A73              1.000000          A93                  A101   \n",
              "3        A73              0.666667          A92                  A101   \n",
              "4        A72              0.333333          A92                  A101   \n",
              "\n",
              "      ...       Property       Age  OtherInstalments Housing  \\\n",
              "0     ...           A121  0.089286              A143    A152   \n",
              "1     ...           A122  0.125000              A143    A152   \n",
              "2     ...           A124  0.232143              A143    A153   \n",
              "3     ...           A123  0.214286              A143    A152   \n",
              "4     ...           A122  0.178571              A141    A152   \n",
              "\n",
              "  ExistingCreditsAtBank   Job NumberDependents  Telephone ForeignWorker  \\\n",
              "0                   0.0  A173              0.0       A191          A201   \n",
              "1                   0.0  A173              0.0       A192          A201   \n",
              "2                   0.0  A174              0.0       A192          A201   \n",
              "3                   0.0  A173              0.0       A192          A201   \n",
              "4                   0.0  A173              0.0       A191          A201   \n",
              "\n",
              "  CreditStatus  \n",
              "0            1  \n",
              "1            0  \n",
              "2            0  \n",
              "3            1  \n",
              "4            0  \n",
              "\n",
              "[5 rows x 21 columns]"
            ]
          },
          "metadata": {
            "tags": []
          },
          "execution_count": 22
        }
      ]
    },
    {
      "metadata": {
        "id": "vWaDCp_Dc4tY",
        "colab_type": "text"
      },
      "cell_type": "markdown",
      "source": [
        "**As we can see there are about 20 features, and a 'CreditStatus' (approval status) feature which needs to be predicted. One can also notice the obscure nature of the data. Just by looking at it, one can make no sense of the observations.**\n",
        "\n",
        "**A summary and list of all features is shown below.**"
      ]
    },
    {
      "metadata": {
        "id": "PrOfJy0PeGLH",
        "colab_type": "code",
        "colab": {
          "base_uri": "https://localhost:8080/",
          "height": 474
        },
        "outputId": "c0081727-c7b9-4234-de20-380f443d8de6"
      },
      "cell_type": "code",
      "source": [
        "creditdata.info()"
      ],
      "execution_count": 23,
      "outputs": [
        {
          "output_type": "stream",
          "text": [
            "<class 'pandas.core.frame.DataFrame'>\n",
            "RangeIndex: 950 entries, 0 to 949\n",
            "Data columns (total 21 columns):\n",
            "CheckingAcctStat         950 non-null object\n",
            "Duration                 950 non-null float64\n",
            "CreditHistory            950 non-null object\n",
            "Purpose                  950 non-null object\n",
            "CreditAmount             950 non-null float64\n",
            "Savings                  950 non-null object\n",
            "Employment               950 non-null object\n",
            "InstallmentRatePecnt     950 non-null float64\n",
            "SexAndStatus             950 non-null object\n",
            "OtherDetorsGuarantors    950 non-null object\n",
            "PresentResidenceTime     950 non-null float64\n",
            "Property                 950 non-null object\n",
            "Age                      950 non-null float64\n",
            "OtherInstalments         950 non-null object\n",
            "Housing                  950 non-null object\n",
            "ExistingCreditsAtBank    950 non-null float64\n",
            "Job                      950 non-null object\n",
            "NumberDependents         950 non-null float64\n",
            "Telephone                950 non-null object\n",
            "ForeignWorker            950 non-null object\n",
            "CreditStatus             950 non-null int64\n",
            "dtypes: float64(7), int64(1), object(13)\n",
            "memory usage: 155.9+ KB\n"
          ],
          "name": "stdout"
        }
      ]
    },
    {
      "metadata": {
        "id": "m6xstaHw6JMJ",
        "colab_type": "text"
      },
      "cell_type": "markdown",
      "source": [
        "**From the above list, we can eliminate a few features simply by seeing what they represent.**\n",
        "\n",
        "**Since we do not want to discriminate against any group in our model, it makes sense to eliminate features like *SexAndStatus* and *Age*. In addition to this, certain features are absolutely unnecessary and should not influence the model like *Telephone* and *PresentResidenceTime *.**"
      ]
    },
    {
      "metadata": {
        "id": "FMtynKxv6oXe",
        "colab_type": "code",
        "colab": {}
      },
      "cell_type": "code",
      "source": [
        "creditdata.drop(['SexAndStatus','Age','Telephone','PresentResidenceTime'],axis=1,inplace=True)"
      ],
      "execution_count": 0,
      "outputs": []
    },
    {
      "metadata": {
        "id": "rmt_hzgNFiXx",
        "colab_type": "text"
      },
      "cell_type": "markdown",
      "source": [
        "**We will now convert the categorical features to categorical dataypes in pandas.**"
      ]
    },
    {
      "metadata": {
        "id": "F_6ppy2AD8og",
        "colab_type": "code",
        "colab": {}
      },
      "cell_type": "code",
      "source": [
        "cols=['CheckingAcctStat','CreditHistory','Purpose','Savings','Employment','OtherDetorsGuarantors','Property','OtherInstalments','Housing','Job','ForeignWorker']\n",
        "creditdata[cols]=creditdata[cols].apply(lambda x: x.astype('category'))   "
      ],
      "execution_count": 0,
      "outputs": []
    },
    {
      "metadata": {
        "id": "ako5YcAcv0yi",
        "colab_type": "text"
      },
      "cell_type": "markdown",
      "source": [
        "###Pointwise Mutual Information (PMI) Test "
      ]
    },
    {
      "metadata": {
        "id": "rWVxk2ycxPoQ",
        "colab_type": "text"
      },
      "cell_type": "markdown",
      "source": [
        "**PMI is a way to do feature selection between categorical variables and I think the best way to define it is using Scikit-learn's definition:**\n",
        "\n",
        "\n",
        "> *Mutual information (MI) between two random variables is a non-negative value, which measures the dependency between the variables. It is equal to zero if and only if two random variables are independent, and higher values mean higher dependency.*\n",
        "\n",
        "**It is essentially a measure of association between two categorical variables where a higher PMI score implies higher associativity. Refer to the [Wikipedia link](https://en.wikipedia.org/wiki/Pointwise_mutual_information) for a detailed mathematical description of the measure.**\n"
      ]
    },
    {
      "metadata": {
        "id": "iF2FFen01-D-",
        "colab_type": "code",
        "colab": {}
      },
      "cell_type": "code",
      "source": [
        "flatten = lambda k: [item for sublist in k for item in sublist] #List flattening function"
      ],
      "execution_count": 0,
      "outputs": []
    },
    {
      "metadata": {
        "id": "AyUTW14Jtoqv",
        "colab_type": "code",
        "colab": {
          "base_uri": "https://localhost:8080/",
          "height": 896
        },
        "outputId": "29db414f-dc77-4ec0-e5a4-25e066b14e32"
      },
      "cell_type": "code",
      "source": [
        "featselX=creditdata.select_dtypes(include=['category'])\n",
        "featselX=pd.get_dummies(featselX)\n",
        "featselY=creditdata[['CreditStatus']]\n",
        "feature_scores=mutual_info_classif(featselX.values,flatten(featselY.values))\n",
        "print('PMI scores for each group is: ')\n",
        "print()\n",
        "for iter,row in zip(featselX.columns,feature_scores):\n",
        "  print(str(iter),':',str(row))"
      ],
      "execution_count": 27,
      "outputs": [
        {
          "output_type": "stream",
          "text": [
            "PMI scores for each group is: \n",
            "\n",
            "CheckingAcctStat_A11 : 0.024556564943028825\n",
            "CheckingAcctStat_A12 : 0.0\n",
            "CheckingAcctStat_A13 : 0.0\n",
            "CheckingAcctStat_A14 : 0.06985790579065654\n",
            "CreditHistory_A30 : 0.03634662098976338\n",
            "CreditHistory_A31 : 0.026387579186726517\n",
            "CreditHistory_A32 : 0.004393759564439881\n",
            "CreditHistory_A33 : 0.0\n",
            "CreditHistory_A34 : 0.027213404094643012\n",
            "Purpose_A40 : 0.0\n",
            "Purpose_A41 : 0.007678656569794384\n",
            "Purpose_A410 : 0.0\n",
            "Purpose_A42 : 0.0\n",
            "Purpose_A43 : 0.0\n",
            "Purpose_A44 : 0.0\n",
            "Purpose_A45 : 0.0\n",
            "Purpose_A46 : 0.0\n",
            "Purpose_A48 : 0.0\n",
            "Purpose_A49 : 0.0\n",
            "Savings_A61 : 0.0\n",
            "Savings_A62 : 0.0\n",
            "Savings_A63 : 0.0010983167170088848\n",
            "Savings_A64 : 0.01979479183315158\n",
            "Savings_A65 : 0.007057334469012355\n",
            "Employment_A71 : 0.0\n",
            "Employment_A72 : 0.013070259055987021\n",
            "Employment_A73 : 0.0026911105353606413\n",
            "Employment_A74 : 0.009717850691805863\n",
            "Employment_A75 : 0.01972215297706792\n",
            "OtherDetorsGuarantors_A101 : 0.0037963077524612032\n",
            "OtherDetorsGuarantors_A102 : 0.0\n",
            "OtherDetorsGuarantors_A103 : 0.0\n",
            "Property_A121 : 0.01273209575729739\n",
            "Property_A122 : 0.0\n",
            "Property_A123 : 0.0031612111669001575\n",
            "Property_A124 : 0.0\n",
            "OtherInstalments_A141 : 0.0\n",
            "OtherInstalments_A142 : 0.0\n",
            "OtherInstalments_A143 : 0.02255020827026133\n",
            "Housing_A151 : 0.0033324449039233706\n",
            "Housing_A152 : 0.0\n",
            "Housing_A153 : 0.014534928780555845\n",
            "Job_A171 : 0.0\n",
            "Job_A172 : 0.0\n",
            "Job_A173 : 0.0\n",
            "Job_A174 : 0.013976330086508337\n",
            "ForeignWorker_A201 : 0.03974596343103309\n",
            "ForeignWorker_A202 : 0.04363690749954752\n"
          ],
          "name": "stdout"
        }
      ]
    },
    {
      "metadata": {
        "id": "hVe1-uXp0NL-",
        "colab_type": "text"
      },
      "cell_type": "markdown",
      "source": [
        "**The PMI scores are displayed for each group of each categorical feature. Note that we had to make dummy variables for each group of every categorical feature because any machine learning algorithm will accept categorical features only when they're converted to indicator variables.**\n",
        "\n",
        "**As we can see, there are quite a few zeros in the output, which can be easily eliminated but before we make a decision to drop any features, we will check with another method of feature selection.**"
      ]
    },
    {
      "metadata": {
        "id": "h89n5_a9086I",
        "colab_type": "text"
      },
      "cell_type": "markdown",
      "source": [
        "### Chi Square Test"
      ]
    },
    {
      "metadata": {
        "id": "MMohzTwZ4hie",
        "colab_type": "text"
      },
      "cell_type": "markdown",
      "source": [
        "**The Chi Square test needs no introduction, it is one of the most basic yet powerful associativity tests for categorical variables. Using this test, we either reject the null hypothesis ($H_0$ : *There is no association between the two variables*) if our p value is less than the significance level ($\\alpha$) or we fail to reject it.**\n",
        "\n",
        "**To read more about the chi square test of independence, one can visit [this link](http://www.statisticssolutions.com/non-parametric-analysis-chi-square/).**\n",
        "\n",
        "**The p values for each feature can be seen below.**"
      ]
    },
    {
      "metadata": {
        "id": "9_1d_etkFARa",
        "colab_type": "code",
        "colab": {
          "base_uri": "https://localhost:8080/",
          "height": 896
        },
        "outputId": "cb7c0095-f4a6-4e0f-f40a-1047b9606c71"
      },
      "cell_type": "code",
      "source": [
        "feature_scores =chi2(featselX.values,flatten(featselY.values))\n",
        "print('p values for all groups are:')\n",
        "print()\n",
        "for iter,row in zip(featselX.columns,feature_scores[1]):\n",
        "  print(str(iter),':',str(row))"
      ],
      "execution_count": 28,
      "outputs": [
        {
          "output_type": "stream",
          "text": [
            "p values for all groups are:\n",
            "\n",
            "CheckingAcctStat_A11 : 3.909040187610065e-12\n",
            "CheckingAcctStat_A12 : 0.00034879107948464374\n",
            "CheckingAcctStat_A13 : 0.0061543731740452134\n",
            "CheckingAcctStat_A14 : 1.3575381267791174e-21\n",
            "CreditHistory_A30 : 4.82657953132884e-05\n",
            "CreditHistory_A31 : 5.8323618737951896e-05\n",
            "CreditHistory_A32 : 0.2234909115148053\n",
            "CreditHistory_A33 : 0.9999999999999991\n",
            "CreditHistory_A34 : 5.663689922062244e-09\n",
            "Purpose_A40 : 3.78922020444793e-06\n",
            "Purpose_A41 : 0.0003140980228330038\n",
            "Purpose_A410 : 0.076510552575717\n",
            "Purpose_A42 : 0.5635101721453828\n",
            "Purpose_A43 : 0.0008763214346722448\n",
            "Purpose_A44 : 0.9618174435035914\n",
            "Purpose_A45 : 0.23845477532844392\n",
            "Purpose_A46 : 0.9237222779031785\n",
            "Purpose_A48 : 0.06189492847027719\n",
            "Purpose_A49 : 0.15385443181361183\n",
            "Savings_A61 : 0.026239039231359965\n",
            "Savings_A62 : 0.1217270204448923\n",
            "Savings_A63 : 0.10984226445386511\n",
            "Savings_A64 : 0.0716887215113875\n",
            "Savings_A65 : 8.075802618518415e-05\n",
            "Employment_A71 : 0.07741577460984586\n",
            "Employment_A72 : 0.0002363697406189501\n",
            "Employment_A73 : 0.5656088008451549\n",
            "Employment_A74 : 0.011402017358709136\n",
            "Employment_A75 : 0.1492553757219692\n",
            "OtherDetorsGuarantors_A101 : 0.9654913398403117\n",
            "OtherDetorsGuarantors_A102 : 0.10824206224500746\n",
            "OtherDetorsGuarantors_A103 : 0.0785096534978309\n",
            "Property_A121 : 0.0026787222952644025\n",
            "Property_A122 : 0.44936880666957546\n",
            "Property_A123 : 0.4929006578752597\n",
            "Property_A124 : 0.0003835846670038617\n",
            "OtherInstalments_A141 : 0.14186145209388668\n",
            "OtherInstalments_A142 : 0.1520709074315102\n",
            "OtherInstalments_A143 : 0.3609535487470066\n",
            "Housing_A151 : 0.5970768130606294\n",
            "Housing_A152 : 0.19224133011441075\n",
            "Housing_A153 : 0.0127564160104239\n",
            "Job_A171 : 0.33054060620528386\n",
            "Job_A172 : 0.2545761512053635\n",
            "Job_A173 : 0.950569429635694\n",
            "Job_A174 : 0.26834058909587877\n",
            "ForeignWorker_A201 : 0.41766005271624185\n",
            "ForeignWorker_A202 : 4.793922306727547e-07\n"
          ],
          "name": "stdout"
        }
      ]
    },
    {
      "metadata": {
        "id": "oRcs4YK16gpv",
        "colab_type": "text"
      },
      "cell_type": "markdown",
      "source": [
        "**We will choose a standard significance level of 5%, and hence if our p value is less than 0.05, we can reject the null hypothesis. If p value is greater than 0.05 for ALL groups of a particular feature, we can safely eliminate that feature as it has no bearing to the outcome.**\n",
        "\n",
        "**Using this logic, we can eliminate the *Job*, *OtherInstalments* and *OtherDetorsGuarantors* features. The remaining features have at least one group which has a significant association to the outcome. The low PMI scores for these features also corroborate our decision! **\n",
        "\n",
        "**In regard to the continuous variables, we do not need to worry about them. The classifier we choose will automatically adjust the weights for them. We take categorical variables for feature selection because a categorical variable with *n* groups results in *n* features. Hence it is significantly more expensive, computationally. Also, in our attempt to not overfit the model, we shouldn't end up underfitting it due to the elimination of more features than necessary.**"
      ]
    },
    {
      "metadata": {
        "id": "cn1Ws7xJIu-2",
        "colab_type": "text"
      },
      "cell_type": "markdown",
      "source": [
        "**We now eliminate the features that we decided above and move on to prediction. We also sort the data into the feature matrix and the labels matrix to get it ready for the machine learning model(s).**"
      ]
    },
    {
      "metadata": {
        "id": "lkyO8tU4ICVF",
        "colab_type": "code",
        "colab": {}
      },
      "cell_type": "code",
      "source": [
        "creditdata.drop(['Job','OtherInstalments','OtherDetorsGuarantors'],axis=1,inplace=True)"
      ],
      "execution_count": 0,
      "outputs": []
    },
    {
      "metadata": {
        "id": "IMcP0N9JIhVT",
        "colab_type": "code",
        "colab": {}
      },
      "cell_type": "code",
      "source": [
        "X=pd.get_dummies(creditdata, drop_first=True) #We drop the first group of each categorical feature to not fall into the dummy variable trap\n",
        "X.drop(['CreditStatus'],axis=1,inplace=True)\n",
        "X=X.values\n",
        "y=creditdata.CreditStatus.values"
      ],
      "execution_count": 0,
      "outputs": []
    },
    {
      "metadata": {
        "id": "I8A2-DyR8-F8",
        "colab_type": "text"
      },
      "cell_type": "markdown",
      "source": [
        "##Prediction"
      ]
    },
    {
      "metadata": {
        "id": "5h4kbKjrIjM2",
        "colab_type": "text"
      },
      "cell_type": "markdown",
      "source": [
        "###Split Data: Training and Testing"
      ]
    },
    {
      "metadata": {
        "id": "Qy9pzSNZJXtH",
        "colab_type": "text"
      },
      "cell_type": "markdown",
      "source": [
        "**We split the data to use 80% of it for training our machine learning models, and the remaining 20% for testing.**"
      ]
    },
    {
      "metadata": {
        "id": "ixJCskKUQ29A",
        "colab_type": "code",
        "colab": {}
      },
      "cell_type": "code",
      "source": [
        "X_train, X_test, y_train, y_test = train_test_split(X, y, test_size=0.2, random_state=0)"
      ],
      "execution_count": 0,
      "outputs": []
    },
    {
      "metadata": {
        "id": "We6xDnCCYkQH",
        "colab_type": "text"
      },
      "cell_type": "markdown",
      "source": [
        "###Class distribution"
      ]
    },
    {
      "metadata": {
        "id": "XVaNijYMY2bf",
        "colab_type": "text"
      },
      "cell_type": "markdown",
      "source": [
        "**A large part of how we decide which Machine Learning model to choose will depend on the class distribution. **"
      ]
    },
    {
      "metadata": {
        "id": "0WwyN8iAYoUO",
        "colab_type": "code",
        "colab": {
          "base_uri": "https://localhost:8080/",
          "height": 52
        },
        "outputId": "38ee46fd-f5ca-4ce8-f7b8-91ac95371413"
      },
      "cell_type": "code",
      "source": [
        "unique, counts = np.unique(y, return_counts=True)\n",
        "print(np.asarray((unique, counts)).T)"
      ],
      "execution_count": 32,
      "outputs": [
        {
          "output_type": "stream",
          "text": [
            "[[  0 425]\n",
            " [  1 525]]\n"
          ],
          "name": "stdout"
        }
      ]
    },
    {
      "metadata": {
        "id": "AgpuxX22ZEFe",
        "colab_type": "text"
      },
      "cell_type": "markdown",
      "source": [
        "**So we have significantly more class labels of 1 than we do of 0 i.e. we have more approvals for credit than rejections. This skew can introduce a bias in our model, and hence we need to be careful with our scoring method.**\n",
        "\n",
        "**We chose the F1 score as a measure of model performance as we have an uneven class distribution (we have more ones than zeros in our class labels). For a more detailed explanation (and formulae), please see [this link.](https://blogs.msdn.microsoft.com/andreasderuiter/2015/02/09/performance-measures-in-azure-ml-accuracy-precision-recall-and-f1-score/)**"
      ]
    },
    {
      "metadata": {
        "id": "qFPHqynyLzr8",
        "colab_type": "text"
      },
      "cell_type": "markdown",
      "source": [
        "###Method 1: Logistic Regression"
      ]
    },
    {
      "metadata": {
        "id": "-zdInXZfM_Vz",
        "colab_type": "text"
      },
      "cell_type": "markdown",
      "source": [
        "####Hyperparameter Tuning"
      ]
    },
    {
      "metadata": {
        "id": "g5ddP8nsN_5V",
        "colab_type": "text"
      },
      "cell_type": "markdown",
      "source": [
        "**We tune the regularization parameter (*C*) for logistic regression using a 10 fold cross validated Grid Search, using our training set. Notice, that we have set the grid search to maximize the F1 score for our model. **"
      ]
    },
    {
      "metadata": {
        "id": "CykOMjEzNEo5",
        "colab_type": "code",
        "colab": {}
      },
      "cell_type": "code",
      "source": [
        "def lgr_param_selection(X, y, nfolds):\n",
        "  Cs = [0.1,0.2,0.3,0.4,0.5,0.6,0.7,0.8,0.9,1,1.5,2,2.5,3]\n",
        "  param_grid = {'C': Cs}\n",
        "  grid_search = GridSearchCV(LogisticRegression(max_iter=1000,solver='sag',penalty='l2'), param_grid, cv=nfolds,scoring='f1')\n",
        "  grid_search.fit(X, y)\n",
        "  grid_search.best_params_\n",
        "  return grid_search.best_params_"
      ],
      "execution_count": 0,
      "outputs": []
    },
    {
      "metadata": {
        "id": "57M239VDNGGS",
        "colab_type": "code",
        "colab": {
          "base_uri": "https://localhost:8080/",
          "height": 34
        },
        "outputId": "472c0533-0e3d-4e89-f9cb-116075c3ce4a"
      },
      "cell_type": "code",
      "source": [
        "lgr_param_selection(X_train, y_train, 10)"
      ],
      "execution_count": 34,
      "outputs": [
        {
          "output_type": "execute_result",
          "data": {
            "text/plain": [
              "{'C': 0.5}"
            ]
          },
          "metadata": {
            "tags": []
          },
          "execution_count": 34
        }
      ]
    },
    {
      "metadata": {
        "id": "38_BPUMPRJYY",
        "colab_type": "text"
      },
      "cell_type": "markdown",
      "source": [
        "**The Grid Search has yielded a regularization parameter (C) of 0.5. Note that we have used the L2 norm penalty, as L1/Elastic Net would perform automatic feature selection for us, which we have already done in the previous section.**\n",
        "\n",
        "**We now apply this parameter to create a logistic regression model for analysis, and then run a 10 fold cross validation to check if we have a good model that is not overfitted.**"
      ]
    },
    {
      "metadata": {
        "id": "2SzCQlSAUijK",
        "colab_type": "text"
      },
      "cell_type": "markdown",
      "source": [
        "####Model Fitting and Analysis"
      ]
    },
    {
      "metadata": {
        "id": "4fLwkw7Rgi2d",
        "colab_type": "code",
        "colab": {
          "base_uri": "https://localhost:8080/",
          "height": 34
        },
        "outputId": "f89018e0-a319-4be4-b905-2dde2de9278c"
      },
      "cell_type": "code",
      "source": [
        "logreg = LogisticRegression(max_iter=1000,solver='sag',penalty='l2',C=0.5)\n",
        "logreg.fit(X_train, y_train)\n",
        "y_pred = logreg.predict(X_test)\n",
        "print('Logistic Regression predicts the correct class label with a',str(round(accuracy_score(y_test, y_pred)*100,2)),'% accuracy.')"
      ],
      "execution_count": 35,
      "outputs": [
        {
          "output_type": "stream",
          "text": [
            "Logistic Regression predicts the correct class label with a 75.79 % accuracy.\n"
          ],
          "name": "stdout"
        }
      ]
    },
    {
      "metadata": {
        "id": "I1KauRl7lFXe",
        "colab_type": "code",
        "colab": {
          "base_uri": "https://localhost:8080/",
          "height": 34
        },
        "outputId": "7f06852b-a9a2-47b2-b6c7-d6b6a7cdc9b4"
      },
      "cell_type": "code",
      "source": [
        "kfold=KFold(n_splits=10, random_state=0)\n",
        "modelCV = LogisticRegression(max_iter=1000,solver='sag',penalty='l2',C=0.5)\n",
        "scoring = 'f1'\n",
        "results = cross_val_score(modelCV, X_train, y_train, cv=kfold,scoring=scoring)\n",
        "print(\"10-fold average cross validation average F1 score: %.3f\" % (results.mean()))"
      ],
      "execution_count": 36,
      "outputs": [
        {
          "output_type": "stream",
          "text": [
            "10-fold average cross validation average F1 score: 0.782\n"
          ],
          "name": "stdout"
        }
      ]
    },
    {
      "metadata": {
        "id": "Pv7UzhkXUArm",
        "colab_type": "text"
      },
      "cell_type": "markdown",
      "source": [
        "**The entire classification report can be seen below. *Support* just refers to the number of observations of that particular class:**"
      ]
    },
    {
      "metadata": {
        "id": "Mi3y80fUo3qp",
        "colab_type": "code",
        "colab": {
          "base_uri": "https://localhost:8080/",
          "height": 140
        },
        "outputId": "ed1bd784-dee4-4b50-cb76-8f0a2d85e645"
      },
      "cell_type": "code",
      "source": [
        "print(classification_report(y_test, y_pred))"
      ],
      "execution_count": 37,
      "outputs": [
        {
          "output_type": "stream",
          "text": [
            "             precision    recall  f1-score   support\n",
            "\n",
            "          0       0.71      0.70      0.71        79\n",
            "          1       0.79      0.80      0.79       111\n",
            "\n",
            "avg / total       0.76      0.76      0.76       190\n",
            "\n"
          ],
          "name": "stdout"
        }
      ]
    },
    {
      "metadata": {
        "id": "pup6beK1V9DH",
        "colab_type": "text"
      },
      "cell_type": "markdown",
      "source": [
        "**The ROC curve (and the Area Under the Curve i.e. AUC) is a useful metric to measure the performance of binary classifiers. The red (y=x) line represents a classifer based on random guessing (50% accuracy). Ideally the AUC should be 1 (a perfect elbow curve going to the origin and moving along the X axis), for a perfect classifier but that is impossible to do without overfitting the data.**"
      ]
    },
    {
      "metadata": {
        "id": "bXmZJNc-pPm_",
        "colab_type": "code",
        "colab": {
          "base_uri": "https://localhost:8080/",
          "height": 376
        },
        "outputId": "a2011ee1-dd05-403a-a298-b0c420939f00"
      },
      "cell_type": "code",
      "source": [
        "logit_roc_auc = roc_auc_score(y_test, logreg.predict(X_test))\n",
        "fpr, tpr, thresholds = roc_curve(y_test, logreg.predict_proba(X_test)[:,1])\n",
        "plt.figure()\n",
        "plt.plot(fpr, tpr, label='Logistic Regression (AUC = %0.3f)' % logit_roc_auc)\n",
        "plt.plot([0, 1], [0, 1],'r--')\n",
        "plt.xlim([0.0, 1.0])\n",
        "plt.ylim([0.0, 1.05])\n",
        "plt.xlabel('False Positive Rate')\n",
        "plt.ylabel('True Positive Rate')\n",
        "plt.title('Receiver operating characteristic (ROC)')\n",
        "plt.legend(loc=\"lower right\")\n",
        "plt.show()"
      ],
      "execution_count": 38,
      "outputs": [
        {
          "output_type": "display_data",
          "data": {
            "image/png": "[encoded data removed]",
            "text/plain": [
              "<matplotlib.figure.Figure at 0x7f20e41f0cf8>"
            ]
          },
          "metadata": {
            "tags": []
          }
        }
      ]
    },
    {
      "metadata": {
        "id": "R3SI1adLWUvm",
        "colab_type": "text"
      },
      "cell_type": "markdown",
      "source": [
        "###Method 2: K-Nearest Neighbours (KNN)"
      ]
    },
    {
      "metadata": {
        "id": "UwHJC3N2BnCA",
        "colab_type": "text"
      },
      "cell_type": "markdown",
      "source": [
        "####Hyperparameter Tuning"
      ]
    },
    {
      "metadata": {
        "id": "cWJkqwFzByv-",
        "colab_type": "text"
      },
      "cell_type": "markdown",
      "source": [
        "**In the case of KNN, we tune the type of distance metric used and the number of nearest neigbours considered in classification.**"
      ]
    },
    {
      "metadata": {
        "id": "qAg9o_bDqF-K",
        "colab_type": "code",
        "colab": {}
      },
      "cell_type": "code",
      "source": [
        "def knn_param_selection(X, y, nfolds):\n",
        "  n_neighborss = [3,4,5,6,7,8,9,10,11,12,13,14,15]\n",
        "  metrics=['minkowski','euclidean','manhattan']\n",
        "  param_grid = {'n_neighbors': n_neighborss,'metric':metrics}\n",
        "  grid_search = GridSearchCV(KNeighborsClassifier(), param_grid, cv=nfolds,scoring='f1')\n",
        "  grid_search.fit(X, y)\n",
        "  grid_search.best_params_\n",
        "  return grid_search.best_params_"
      ],
      "execution_count": 0,
      "outputs": []
    },
    {
      "metadata": {
        "id": "tRni3KGAq6VZ",
        "colab_type": "code",
        "colab": {
          "base_uri": "https://localhost:8080/",
          "height": 34
        },
        "outputId": "d07ed2b2-7506-428f-e65c-8e5b34981896"
      },
      "cell_type": "code",
      "source": [
        "knn_param_selection(X_train, y_train, 10)"
      ],
      "execution_count": 40,
      "outputs": [
        {
          "output_type": "execute_result",
          "data": {
            "text/plain": [
              "{'metric': 'manhattan', 'n_neighbors': 3}"
            ]
          },
          "metadata": {
            "tags": []
          },
          "execution_count": 40
        }
      ]
    },
    {
      "metadata": {
        "id": "_GF--xBFD0oM",
        "colab_type": "text"
      },
      "cell_type": "markdown",
      "source": [
        "**The grid search reveals that we should use the *manhattan* distance metric and the *three nearest neighbours* to maximize the F1 score.**"
      ]
    },
    {
      "metadata": {
        "id": "FD6wwmrgErHn",
        "colab_type": "text"
      },
      "cell_type": "markdown",
      "source": [
        "####Model Fitting and Analysis"
      ]
    },
    {
      "metadata": {
        "id": "BydYWbPSp2Gq",
        "colab_type": "code",
        "colab": {
          "base_uri": "https://localhost:8080/",
          "height": 34
        },
        "outputId": "a8d71520-7be6-4512-e54d-6568e740b7df"
      },
      "cell_type": "code",
      "source": [
        "knnclass = KNeighborsClassifier(n_neighbors=3,metric='manhattan')  \n",
        "knnclass.fit(X_train, y_train)  \n",
        "y_pred = knnclass.predict(X_test) \n",
        "print('K-Nearest Neighbors predicts the correct class label with a',str(round(accuracy_score(y_test, y_pred)*100,2)),'% accuracy.')"
      ],
      "execution_count": 41,
      "outputs": [
        {
          "output_type": "stream",
          "text": [
            "K-Nearest Neighbors predicts the correct class label with a 71.58 % accuracy.\n"
          ],
          "name": "stdout"
        }
      ]
    },
    {
      "metadata": {
        "id": "5YHhNX0LFfUF",
        "colab_type": "code",
        "colab": {
          "base_uri": "https://localhost:8080/",
          "height": 34
        },
        "outputId": "a9b4f910-6859-4352-eb95-7f276ad87376"
      },
      "cell_type": "code",
      "source": [
        "kfold=KFold(n_splits=10, random_state=0)\n",
        "modelCV = KNeighborsClassifier(n_neighbors=3,metric='manhattan')\n",
        "scoring = 'f1'\n",
        "results = cross_val_score(modelCV, X_train, y_train, cv=kfold,scoring=scoring)\n",
        "print(\"10-fold average cross validation average F1 score: %.3f\" % (results.mean()))"
      ],
      "execution_count": 42,
      "outputs": [
        {
          "output_type": "stream",
          "text": [
            "10-fold average cross validation average F1 score: 0.766\n"
          ],
          "name": "stdout"
        }
      ]
    },
    {
      "metadata": {
        "id": "Kg4jKNzhh9GH",
        "colab_type": "text"
      },
      "cell_type": "markdown",
      "source": [
        "**Classification Report:**"
      ]
    },
    {
      "metadata": {
        "id": "dvTobIeZFuyy",
        "colab_type": "code",
        "colab": {
          "base_uri": "https://localhost:8080/",
          "height": 140
        },
        "outputId": "652e7171-75ca-4784-88c3-1df01c92825d"
      },
      "cell_type": "code",
      "source": [
        "print(classification_report(y_test, y_pred))"
      ],
      "execution_count": 43,
      "outputs": [
        {
          "output_type": "stream",
          "text": [
            "             precision    recall  f1-score   support\n",
            "\n",
            "          0       0.72      0.52      0.60        79\n",
            "          1       0.71      0.86      0.78       111\n",
            "\n",
            "avg / total       0.72      0.72      0.71       190\n",
            "\n"
          ],
          "name": "stdout"
        }
      ]
    },
    {
      "metadata": {
        "id": "rS-tcAjiqBAz",
        "colab_type": "code",
        "colab": {
          "base_uri": "https://localhost:8080/",
          "height": 376
        },
        "outputId": "109b9de1-177d-48eb-a500-64405abe41da"
      },
      "cell_type": "code",
      "source": [
        "knn_roc_auc = roc_auc_score(y_test, knnclass.predict(X_test))\n",
        "fpr, tpr, thresholds = roc_curve(y_test, knnclass.predict_proba(X_test)[:,1])\n",
        "plt.figure()\n",
        "plt.plot(fpr, tpr, label='K-Nearest Neighbours (area = %0.3f)' % knn_roc_auc)\n",
        "plt.plot([0, 1], [0, 1],'r--')\n",
        "plt.xlim([0.0, 1.0])\n",
        "plt.ylim([0.0, 1.05])\n",
        "plt.xlabel('False Positive Rate')\n",
        "plt.ylabel('True Positive Rate')\n",
        "plt.title('Receiver operating characteristic (ROC)')\n",
        "plt.legend(loc=\"lower right\")\n",
        "plt.show()"
      ],
      "execution_count": 44,
      "outputs": [
        {
          "output_type": "display_data",
          "data": {
            "image/png": "[encoded data removed]",
            "text/plain": [
              "<matplotlib.figure.Figure at 0x7f20cf58b400>"
            ]
          },
          "metadata": {
            "tags": []
          }
        }
      ]
    },
    {
      "metadata": {
        "id": "YgKQcSmZhVgP",
        "colab_type": "text"
      },
      "cell_type": "markdown",
      "source": [
        "###Method 3: Support Vector Classifier with Linear Kernel"
      ]
    },
    {
      "metadata": {
        "id": "T_fN6acKmRnH",
        "colab_type": "text"
      },
      "cell_type": "markdown",
      "source": [
        "####Hyperparameter Tuning"
      ]
    },
    {
      "metadata": {
        "id": "vMnFrd9cuB-h",
        "colab_type": "code",
        "colab": {}
      },
      "cell_type": "code",
      "source": [
        "def linsvc_param_selection(X, y, nfolds):\n",
        "  Cs = [0.1,0.2,0.3,0.4,0.5,0.6,0.7,0.8,0.9,1,1.5,2,2.5,3]\n",
        "  param_grid = {'C': Cs}\n",
        "  grid_search = GridSearchCV(LinearSVC(), param_grid, cv=nfolds,scoring='f1')\n",
        "  grid_search.fit(X, y)\n",
        "  grid_search.best_params_\n",
        "  return grid_search.best_params_"
      ],
      "execution_count": 0,
      "outputs": []
    },
    {
      "metadata": {
        "id": "yFmIhHbruSuq",
        "colab_type": "code",
        "colab": {
          "base_uri": "https://localhost:8080/",
          "height": 34
        },
        "outputId": "0a076a47-71c4-4aa4-e9d7-e9e5f76c9c38"
      },
      "cell_type": "code",
      "source": [
        "linsvc_param_selection(X_train, y_train, 10)"
      ],
      "execution_count": 46,
      "outputs": [
        {
          "output_type": "execute_result",
          "data": {
            "text/plain": [
              "{'C': 0.1}"
            ]
          },
          "metadata": {
            "tags": []
          },
          "execution_count": 46
        }
      ]
    },
    {
      "metadata": {
        "id": "oESTyJ1UmURQ",
        "colab_type": "text"
      },
      "cell_type": "markdown",
      "source": [
        "####Model Fitting and Analysis"
      ]
    },
    {
      "metadata": {
        "id": "Mox6swgUtDn5",
        "colab_type": "code",
        "colab": {
          "base_uri": "https://localhost:8080/",
          "height": 34
        },
        "outputId": "7f0b3ece-3aec-42da-e73b-a4232bf4ac6f"
      },
      "cell_type": "code",
      "source": [
        "clf = LinearSVC(C=0.1)\n",
        "linsvc = CalibratedClassifierCV(clf) \n",
        "linsvc.fit(X_train, y_train)\n",
        "y_pred=linsvc.predict(X_test) \n",
        "print('Linear SVC predicts the correct class label with a',str(round(accuracy_score(y_test, y_pred)*100,2)),'% accuracy.')"
      ],
      "execution_count": 47,
      "outputs": [
        {
          "output_type": "stream",
          "text": [
            "Linear SVC predicts the correct class label with a 74.21 % accuracy.\n"
          ],
          "name": "stdout"
        }
      ]
    },
    {
      "metadata": {
        "id": "q53Z9fy2huNs",
        "colab_type": "code",
        "colab": {
          "base_uri": "https://localhost:8080/",
          "height": 34
        },
        "outputId": "96afaa27-cb47-464c-e8a8-cf0828bb2501"
      },
      "cell_type": "code",
      "source": [
        "kfold=KFold(n_splits=10, random_state=0)\n",
        "modelCV = CalibratedClassifierCV(LinearSVC(C=0.1)) \n",
        "scoring = 'f1'\n",
        "results = cross_val_score(modelCV, X_train, y_train, cv=kfold,scoring=scoring)\n",
        "print(\"10-fold average cross validation average F1 score: %.3f\" % (results.mean()))"
      ],
      "execution_count": 48,
      "outputs": [
        {
          "output_type": "stream",
          "text": [
            "10-fold average cross validation average F1 score: 0.778\n"
          ],
          "name": "stdout"
        }
      ]
    },
    {
      "metadata": {
        "id": "-HU5H7GniCs1",
        "colab_type": "text"
      },
      "cell_type": "markdown",
      "source": [
        "**Classification Report:**"
      ]
    },
    {
      "metadata": {
        "id": "8yyIVwJah6WX",
        "colab_type": "code",
        "colab": {
          "base_uri": "https://localhost:8080/",
          "height": 140
        },
        "outputId": "128a5b03-17ab-41bd-cf9b-6f21af22cba7"
      },
      "cell_type": "code",
      "source": [
        "print(classification_report(y_test, y_pred))"
      ],
      "execution_count": 49,
      "outputs": [
        {
          "output_type": "stream",
          "text": [
            "             precision    recall  f1-score   support\n",
            "\n",
            "          0       0.69      0.70      0.69        79\n",
            "          1       0.78      0.77      0.78       111\n",
            "\n",
            "avg / total       0.74      0.74      0.74       190\n",
            "\n"
          ],
          "name": "stdout"
        }
      ]
    },
    {
      "metadata": {
        "id": "QZs386RdiJOg",
        "colab_type": "code",
        "colab": {
          "base_uri": "https://localhost:8080/",
          "height": 376
        },
        "outputId": "6551daa7-0c16-4617-c6bd-d5414c1c7291"
      },
      "cell_type": "code",
      "source": [
        "lsvc_roc_auc = roc_auc_score(y_test, linsvc.predict(X_test))\n",
        "fpr, tpr, thresholds = roc_curve(y_test, linsvc.predict_proba(X_test)[:,1])\n",
        "plt.figure()\n",
        "plt.plot(fpr, tpr, label='Linear SVC (area = %0.3f)' % lsvc_roc_auc)\n",
        "plt.plot([0, 1], [0, 1],'r--')\n",
        "plt.xlim([0.0, 1.0])\n",
        "plt.ylim([0.0, 1.05])\n",
        "plt.xlabel('False Positive Rate')\n",
        "plt.ylabel('True Positive Rate')\n",
        "plt.title('Receiver operating characteristic (ROC)')\n",
        "plt.legend(loc=\"lower right\")\n",
        "plt.show()"
      ],
      "execution_count": 50,
      "outputs": [
        {
          "output_type": "display_data",
          "data": {
            "image/png": "[encoded data removed]",
            "text/plain": [
              "<matplotlib.figure.Figure at 0x7f20cf58b550>"
            ]
          },
          "metadata": {
            "tags": []
          }
        }
      ]
    },
    {
      "metadata": {
        "id": "Y38tz9wu9-JN",
        "colab_type": "text"
      },
      "cell_type": "markdown",
      "source": [
        "###Method 4: Random Forest Classifier (Ensemble Method)"
      ]
    },
    {
      "metadata": {
        "id": "d9biSeyS_6yE",
        "colab_type": "text"
      },
      "cell_type": "markdown",
      "source": [
        "####Hyperparameter Tuning"
      ]
    },
    {
      "metadata": {
        "id": "ub_Mr1OdAlXP",
        "colab_type": "text"
      },
      "cell_type": "markdown",
      "source": [
        "**Since Random Forest is an ensemble learning method (similar to bagged decision trees), our critical parameters are the ones that select the number of trees to compare and the pruning parameter (minimum samples to split a node).**"
      ]
    },
    {
      "metadata": {
        "id": "2_rNJb0e0QEh",
        "colab_type": "code",
        "colab": {}
      },
      "cell_type": "code",
      "source": [
        "def randf_param_selection(X, y, nfolds):\n",
        "  n_estimatorss = [30,60,90,100,150,200]\n",
        "  min_samples_splits=[5,10,20,30,40,50]\n",
        "  param_grid = {'n_estimators': n_estimatorss,'min_samples_split':min_samples_splits}\n",
        "  grid_search = GridSearchCV(RandomForestClassifier(), param_grid, cv=nfolds,scoring='f1')\n",
        "  grid_search.fit(X, y)\n",
        "  grid_search.best_params_\n",
        "  return grid_search.best_params_"
      ],
      "execution_count": 0,
      "outputs": []
    },
    {
      "metadata": {
        "id": "6Hh9UIwE02ge",
        "colab_type": "code",
        "colab": {
          "base_uri": "https://localhost:8080/",
          "height": 34
        },
        "outputId": "a40897e3-0662-4163-8417-46b6b8592bfc"
      },
      "cell_type": "code",
      "source": [
        "randf_param_selection(X_train,y_train,10)"
      ],
      "execution_count": 52,
      "outputs": [
        {
          "output_type": "execute_result",
          "data": {
            "text/plain": [
              "{'min_samples_split': 5, 'n_estimators': 200}"
            ]
          },
          "metadata": {
            "tags": []
          },
          "execution_count": 52
        }
      ]
    },
    {
      "metadata": {
        "id": "iQDfK_GO67-7",
        "colab_type": "text"
      },
      "cell_type": "markdown",
      "source": [
        "####Model Fitting and Analysis"
      ]
    },
    {
      "metadata": {
        "id": "QZjQB4iA1Q0-",
        "colab_type": "code",
        "colab": {
          "base_uri": "https://localhost:8080/",
          "height": 34
        },
        "outputId": "e88a544b-a236-4c55-af1f-e8d444f0a44e"
      },
      "cell_type": "code",
      "source": [
        "randf=RandomForestClassifier(n_estimators=200,min_samples_split=5)\n",
        "randf.fit(X_train,y_train)\n",
        "y_pred=randf.predict(X_test)\n",
        "print('Random Forest predicts the correct class label with a',str(round(accuracy_score(y_test, y_pred)*100,2)),'% accuracy.')"
      ],
      "execution_count": 57,
      "outputs": [
        {
          "output_type": "stream",
          "text": [
            "Random Forest predicts the correct class label with a 84.21 % accuracy.\n"
          ],
          "name": "stdout"
        }
      ]
    },
    {
      "metadata": {
        "id": "kMPpd3pN1-D-",
        "colab_type": "code",
        "colab": {
          "base_uri": "https://localhost:8080/",
          "height": 34
        },
        "outputId": "4fbe5ad8-80d7-4b87-dc66-db7a0bcbf00b"
      },
      "cell_type": "code",
      "source": [
        "kfold=KFold(n_splits=10, random_state=7)\n",
        "modelCV = RandomForestClassifier(n_estimators=200,min_samples_split=5)\n",
        "scoring = 'f1'\n",
        "results = cross_val_score(modelCV, X_train, y_train, cv=kfold,scoring=scoring)\n",
        "print(\"10-fold cross validation average F1 score: %.3f\" % (results.mean()))"
      ],
      "execution_count": 58,
      "outputs": [
        {
          "output_type": "stream",
          "text": [
            "10-fold cross validation average F1 score: 0.822\n"
          ],
          "name": "stdout"
        }
      ]
    },
    {
      "metadata": {
        "id": "kwn5bE7o2SK_",
        "colab_type": "text"
      },
      "cell_type": "markdown",
      "source": [
        "**Classification Report:**"
      ]
    },
    {
      "metadata": {
        "id": "lLBsR4fI2T-4",
        "colab_type": "code",
        "colab": {
          "base_uri": "https://localhost:8080/",
          "height": 140
        },
        "outputId": "dab9f85f-2647-4e72-ab38-527434c637d0"
      },
      "cell_type": "code",
      "source": [
        "print(classification_report(y_test, y_pred))"
      ],
      "execution_count": 59,
      "outputs": [
        {
          "output_type": "stream",
          "text": [
            "             precision    recall  f1-score   support\n",
            "\n",
            "          0       0.80      0.82      0.81        79\n",
            "          1       0.87      0.86      0.86       111\n",
            "\n",
            "avg / total       0.84      0.84      0.84       190\n",
            "\n"
          ],
          "name": "stdout"
        }
      ]
    },
    {
      "metadata": {
        "id": "IIUM5LiO2-p4",
        "colab_type": "code",
        "colab": {
          "base_uri": "https://localhost:8080/",
          "height": 376
        },
        "outputId": "890021e4-9dd3-4f97-c2ca-6d78893625b6"
      },
      "cell_type": "code",
      "source": [
        "randf_roc_auc = roc_auc_score(y_test, randf.predict(X_test))\n",
        "fpr, tpr, thresholds = roc_curve(y_test, randf.predict_proba(X_test)[:,1])\n",
        "plt.figure()\n",
        "plt.plot(fpr, tpr, label='Random Forest (area = %0.3f)' % randf_roc_auc)\n",
        "plt.plot([0, 1], [0, 1],'r--')\n",
        "plt.xlim([0.0, 1.0])\n",
        "plt.ylim([0.0, 1.05])\n",
        "plt.xlabel('False Positive Rate')\n",
        "plt.ylabel('True Positive Rate')\n",
        "plt.title('Receiver operating characteristic (ROC)')\n",
        "plt.legend(loc=\"lower right\")\n",
        "plt.show()"
      ],
      "execution_count": 60,
      "outputs": [
        {
          "output_type": "display_data",
          "data": {
            "image/png": "[encoded data removed]",
            "text/plain": [
              "<matplotlib.figure.Figure at 0x7f20cf4bfa58>"
            ]
          },
          "metadata": {
            "tags": []
          }
        }
      ]
    },
    {
      "metadata": {
        "id": "VX-fIWGD7YY7",
        "colab_type": "text"
      },
      "cell_type": "markdown",
      "source": [
        "###Summary"
      ]
    },
    {
      "metadata": {
        "id": "8B4jR8nDNOxy",
        "colab_type": "text"
      },
      "cell_type": "markdown",
      "source": [
        "**To sum up, we have performed feature selection on our categorical variables using two popular tests and have used the L2 penalty in our machine learning algorithms. This is because we do not want L1/Elastic Net to perform automatic feature selection, as that might remove some of the groups of any categorical feature, which is not a good idea. After this, we developed several predictive models to classify whether a line of credit should be approved or not.**"
      ]
    },
    {
      "metadata": {
        "id": "Vo0AiVdl7xze",
        "colab_type": "text"
      },
      "cell_type": "markdown",
      "source": [
        "**The classifiers ranked in order of worst to best, are shown below. The values may vary slightly as there are some random processes involved in the grid search and each algorithm.**"
      ]
    },
    {
      "metadata": {
        "id": "kPrNyakU3s_M",
        "colab_type": "text"
      },
      "cell_type": "markdown",
      "source": [
        "\n",
        "\n",
        "\n",
        "| Classifier | Accuracy | F1 | AUC\n",
        "| --- | --- | --- |\n",
        "| K-Nearest Neighbours | 71.58% |0.71 | 0.687\n",
        "| Linear SVC | 74.21% | 0.74 | 0.735\n",
        "| Logistic Regression | 75.79% | 0.76 | 0.749\n",
        "| Random Forest | 84.21% | 0.84| 0.839"
      ]
    },
    {
      "metadata": {
        "id": "R8B2WdVOKdum",
        "colab_type": "text"
      },
      "cell_type": "markdown",
      "source": [
        "**As we can see above, the Random Forest classifier has performed the best out of all the classifiers, while the K-Nearest Neighbours classifier has performed the worst.**\n",
        "\n",
        "\n",
        "**Since our class distribution was unequal, we used the F1 score as our primary performance metric. To eliminate any issues with overfitting, we calculated a 10 fold cross validated F1 score, and used accuracy and AUC as secondary metrics. Based on this, the Random Forest algorithm beats the others by a significant margin and this is because of it being an ensemble method.**\n",
        "\n",
        "**Ensemble methods combine a number of weak classifiers (binary trees in this case) to enhance the final predicition. Random Forests are similar to bagged decision trees, and are a powerful, albeit computationally expensive algorithm.**"
      ]
    }
  ]
}